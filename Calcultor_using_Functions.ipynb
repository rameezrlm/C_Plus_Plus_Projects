{
  "nbformat": 4,
  "nbformat_minor": 0,
  "metadata": {
    "colab": {
      "provenance": []
    },
    "kernelspec": {
      "name": "python3",
      "display_name": "Python 3"
    },
    "language_info": {
      "name": "python"
    }
  },
  "cells": [
    {
      "cell_type": "markdown",
      "source": [
        "# **OOP PROJECT**\n",
        "**Submitted By:** Rameez Malik\n"
      ],
      "metadata": {
        "id": "TBnyA0xnIoTg"
      }
    },
    {
      "cell_type": "code",
      "source": [
        "class Student:\n",
        "    def __init__(self, name, scores):\n",
        "        self.name = name\n",
        "        self.scores = scores\n",
        "\n",
        "    def calculate_average(self):\n",
        "        return sum(self.scores) / len(self.scores)\n",
        "\n",
        "    def is_passing(self):\n",
        "        return all(score >= 40 for score in self.scores)\n",
        "\n",
        "class PerformanceTracker:\n",
        "    def __init__(self):\n",
        "        self.students = {}\n",
        "\n",
        "    def add_student(self, name, scores):\n",
        "        self.students[name] = Student(name, scores)\n",
        "\n",
        "    def calculate_class_average(self):\n",
        "        total_score = sum(student.calculate_average() for student in self.students.values())\n",
        "        return total_score / len(self.students)\n",
        "\n",
        "    def display_student_performance(self):\n",
        "        for student in self.students.values():\n",
        "            avg = student.calculate_average()\n",
        "            status = \"Passing\" if student.is_passing() else \"Failing\"\n",
        "            print(f\"Student: {student.name}, Average Score: {avg:.2f}, Status: {status}\")\n",
        "\n",
        "# Main program to handle input\n",
        "def main():\n",
        "    tracker = PerformanceTracker()\n",
        "\n",
        "    while True:\n",
        "        try:\n",
        "            name = input(\"Enter student's name: \")\n",
        "            scores = []\n",
        "            for subject in ['Math', 'Science', 'English']:\n",
        "                score = int(input(f\"Enter score for {subject}: \"))\n",
        "                scores.append(score)\n",
        "\n",
        "            tracker.add_student(name, scores)\n",
        "\n",
        "            continue_input = input(\"Do you want to add another student? (yes/no): \").lower()\n",
        "            if continue_input != 'yes':\n",
        "                break\n",
        "        except ValueError:\n",
        "            print(\"Invalid input! Please enter numeric values for the scores.\")\n",
        "\n",
        "    # Display results\n",
        "    tracker.display_student_performance()\n",
        "    class_avg = tracker.calculate_class_average()\n",
        "    print(\"====================================\\n\")\n",
        "    print(f\"Class Average: {class_avg:.2f}\")\n",
        "    print(\"====================================\\n\")\n",
        "\n",
        "# Run the program\n",
        "if __name__ == \"__main__\":\n",
        "    main()\n"
      ],
      "metadata": {
        "colab": {
          "base_uri": "https://localhost:8080/"
        },
        "id": "A5rLlLpuIUZZ",
        "outputId": "82ff59d2-0317-474b-dea7-2e81f11a014a"
      },
      "execution_count": 5,
      "outputs": [
        {
          "output_type": "stream",
          "name": "stdout",
          "text": [
            "Enter student's name: Rameez Malik\n",
            "Enter score for Math: 10\n",
            "Enter score for Science: 9\n",
            "Enter score for English: 1\n",
            "Do you want to add another student? (yes/no): no\n",
            "Student: Rameez Malik, Average Score: 6.67, Status: Failing\n",
            "====================================\n",
            "\n",
            "Class Average: 6.67\n",
            "====================================\n",
            "\n"
          ]
        }
      ]
    },
    {
      "cell_type": "code",
      "source": [],
      "metadata": {
        "id": "6r_1FY_nIVPy"
      },
      "execution_count": null,
      "outputs": []
    }
  ]
}